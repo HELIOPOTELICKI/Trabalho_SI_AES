{
 "cells": [
  {
   "cell_type": "code",
   "execution_count": null,
   "metadata": {},
   "outputs": [],
   "source": [
    "from collections import deque\n",
    "import pandas as pd"
   ]
  },
  {
   "cell_type": "code",
   "execution_count": null,
   "metadata": {},
   "outputs": [],
   "source": [
    "My_String = '01000100\\1001110\\1010110\\1001110\\1000101\\1010110\\1001001\\1010100\\1010011\\1001111\\1001101\\1001111\\1000101\\1001100\\1000101\\010000'\n",
    "ascii_string = \"\".join([chr(int(binary, 2)) for binary in My_String.split(\" \")])\n",
    "print(ascii_string)"
   ]
  },
  {
   "cell_type": "code",
   "execution_count": 84,
   "metadata": {},
   "outputs": [
    {
     "data": {
      "text/plain": [
       "16"
      ]
     },
     "execution_count": 84,
     "metadata": {},
     "output_type": "execute_result"
    }
   ],
   "source": [
    "a=[20,1,94,33,199,0,48,9,31,94,112,40,59,30,100,248]\n",
    "len(a)"
   ]
  },
  {
   "cell_type": "code",
   "execution_count": 93,
   "metadata": {},
   "outputs": [
    {
     "data": {
      "text/plain": [
       "[385, 314, 815, 90, 48, 508, 396, 994, 825, 970, 799, 655, 741, 786, 914, 448]"
      ]
     },
     "execution_count": 93,
     "metadata": {},
     "output_type": "execute_result"
    }
   ],
   "source": [
    "import random\n",
    "\n",
    "key = []\n",
    "for i in range(0, 16):\n",
    "    key.append(random.randint(0, 999))\n",
    "\n",
    "key"
   ]
  },
  {
   "cell_type": "code",
   "execution_count": 80,
   "metadata": {},
   "outputs": [
    {
     "data": {
      "text/plain": [
       "['14',\n",
       " '01',\n",
       " '5E',\n",
       " '21',\n",
       " 'C7',\n",
       " '00',\n",
       " '30',\n",
       " '09',\n",
       " '1F',\n",
       " '5E',\n",
       " '70',\n",
       " '28',\n",
       " '3B',\n",
       " '1E',\n",
       " '64',\n",
       " 'F8']"
      ]
     },
     "execution_count": 80,
     "metadata": {},
     "output_type": "execute_result"
    }
   ],
   "source": [
    "entry_key = input('Enter the key: ')\n",
    "entry_key = entry_key.split(',')\n",
    "key = []\n",
    "\n",
    "for i in range(0, len(entry_key)):\n",
    "    key.append(int(entry_key[i]))\n",
    "\n",
    "key = ''.join([\"%02X \" %  x for x in key]).strip().split(' ')\n",
    "key"
   ]
  },
  {
   "cell_type": "markdown",
   "metadata": {},
   "source": [
    "## Expansao de Chave"
   ]
  },
  {
   "cell_type": "code",
   "execution_count": 144,
   "metadata": {},
   "outputs": [],
   "source": [
    "entry_key = [20,1,94,33,199,0,48,9,31,94,112,40,59,30,100,248]\n",
    "key = []\n",
    "\n",
    "for num in entry_key:\n",
    "    key.append(num)\n",
    "\n",
    "original_key = [[key[0],key[4],key[8],key[12]],\n",
    "                [key[1],key[5],key[9],key[13]],\n",
    "                [key[2],key[6],key[10],key[14]],\n",
    "                [key[3],key[7],key[11],key[15]]]\n",
    "\n",
    "key_schedule = [[key[0],key[1],key[2],key[3]],  [key[4],key[5],key[6],key[7]], [key[8],key[9],key[10],key[11]],  [key[12],key[13],key[14],key[15]]]\n",
    "\n",
    "\n",
    "def key_schedule_core(key_schedule, round_num):\n",
    "    new_word = [key_schedule[round_num+1][0]]\n",
    "\n",
    "    for i in range(1, 4):\n",
    "        a = key_schedule[round_num][i]\n",
    "        b = key_schedule[round_num+1][i-1]\n",
    "\n",
    "        aux = (a ^ b)\n",
    "        new_word.append(a ^ b)\n",
    "\n",
    "    return new_word"
   ]
  },
  {
   "cell_type": "code",
   "execution_count": 145,
   "metadata": {},
   "outputs": [],
   "source": [
    "round_key_0 = key_schedule[0]\n",
    "round_key_1 = key_schedule_core(key_schedule, 0)\n",
    "key_schedule.append(round_key_1)\n",
    "\n",
    "round_key_2 = key_schedule_core(key_schedule, 1)\n",
    "key_schedule.append(round_key_2)\n",
    "\n",
    "round_key_3 = key_schedule_core(key_schedule, 2)\n",
    "key_schedule.append(round_key_3)\n",
    "\n",
    "round_key_4 = key_schedule_core(key_schedule, 3)\n",
    "key_schedule.append(round_key_4)\n",
    "\n",
    "round_key_5 = key_schedule_core(key_schedule, 4)\n",
    "key_schedule.append(round_key_5)\n",
    "\n",
    "round_key_6 = key_schedule_core(key_schedule, 5)\n",
    "key_schedule.append(round_key_6)\n",
    "\n",
    "round_key_7 = key_schedule_core(key_schedule, 6)\n",
    "key_schedule.append(round_key_7)\n",
    "\n",
    "round_key_8 = key_schedule_core(key_schedule, 7)\n",
    "key_schedule.append(round_key_8)\n",
    "\n",
    "round_key_9 = key_schedule_core(key_schedule, 8)\n",
    "key_schedule.append(round_key_9)\n",
    "\n",
    "round_key_10 = key_schedule_core(key_schedule, 9)\n",
    "key_schedule.append(round_key_10)"
   ]
  },
  {
   "cell_type": "code",
   "execution_count": 134,
   "metadata": {},
   "outputs": [
    {
     "name": "stdout",
     "output_type": "stream",
     "text": [
      "[20, 1, 94, 33]\n",
      "[199, 198, 94, 17]\n",
      "[31, 31, 110, 121]\n",
      "[59, 101, 110, 76]\n",
      "[199, 217, 162, 166]\n",
      "[31, 217, 65, 127]\n",
      "[59, 36, 11, 23]\n",
      "[199, 162, 183, 238]\n",
      "[31, 198, 123, 231]\n",
      "[59, 226, 101, 116]\n",
      "[199, 227, 169, 160]\n"
     ]
    },
    {
     "data": {
      "text/plain": [
       "'\\n20, 1, 94, 33\\n\\n199, 0, 48, 9\\n\\n31, 94, 112, 40\\n\\n59, 30, 100, 248\\n\\n'"
      ]
     },
     "execution_count": 134,
     "metadata": {},
     "output_type": "execute_result"
    }
   ],
   "source": [
    "print(round_key_0)\n",
    "print(round_key_1)\n",
    "print(round_key_2)\n",
    "print(round_key_3)\n",
    "print(round_key_4)\n",
    "print(round_key_5)\n",
    "print(round_key_6)\n",
    "print(round_key_7)\n",
    "print(round_key_8)\n",
    "print(round_key_9)\n",
    "print(round_key_10)\n",
    "\n",
    "'''\n",
    "20, 1, 94, 33\n",
    "\n",
    "199, 0, 48, 9\n",
    "\n",
    "31, 94, 112, 40\n",
    "\n",
    "59, 30, 100, 248\n",
    "\n",
    "'''"
   ]
  },
  {
   "cell_type": "code",
   "execution_count": 135,
   "metadata": {},
   "outputs": [
    {
     "data": {
      "text/plain": [
       "152"
      ]
     },
     "execution_count": 135,
     "metadata": {},
     "output_type": "execute_result"
    }
   ],
   "source": [
    "94 ^ 198"
   ]
  },
  {
   "cell_type": "code",
   "execution_count": 128,
   "metadata": {},
   "outputs": [
    {
     "name": "stdout",
     "output_type": "stream",
     "text": [
      "[[20, 1, 94, 33], [199, 0, 48, 9], [31, 94, 112, 40], [59, 30, 100, 248], [199, 1, 110, 40], [31, 94, 64, 33], [59, 64, 20, 208], [199, 1, 110, 40], [31, 94, 64, 33], [59, 64, 20, 208], [199, 31, 10, 208], [31, 95, 46, 9], [59, 30, 84, 241], [199, 65, 122, 248], [31, 95, 46, 9], [59, 30, 84, 241], [199, 95, 30, 0], [199, 1, 110, 40], [31, 94, 64, 33], [59, 64, 20, 208], [199, 31, 10, 208], [31, 95, 46, 9], [59, 30, 84, 241], [199, 65, 122, 248], [31, 95, 46, 9], [59, 30, 84, 241], [199, 95, 30, 0], [199, 1, 110, 40], [31, 94, 64, 33], [59, 64, 20, 208], [199, 31, 10, 208], [31, 95, 46, 9], [59, 30, 84, 241], [199, 65, 122, 248], [31, 95, 46, 9], [59, 30, 84, 241], [199, 95, 30, 0], [199, 1, 110, 40], [31, 94, 64, 33], [59, 64, 20, 208], [199, 31, 10, 208], [31, 95, 46, 9], [59, 30, 84, 241], [199, 65, 122, 248], [31, 95, 46, 9], [59, 30, 84, 241], [199, 95, 30, 0]]\n"
     ]
    }
   ],
   "source": [
    "print(key_schedule)"
   ]
  },
  {
   "cell_type": "code",
   "execution_count": 85,
   "metadata": {},
   "outputs": [
    {
     "data": {
      "text/plain": [
       "199"
      ]
     },
     "execution_count": 85,
     "metadata": {},
     "output_type": "execute_result"
    }
   ],
   "source": [
    "int('0xc7', 16)"
   ]
  },
  {
   "cell_type": "code",
   "execution_count": null,
   "metadata": {},
   "outputs": [],
   "source": []
  },
  {
   "cell_type": "code",
   "execution_count": 93,
   "metadata": {},
   "outputs": [
    {
     "data": {
      "text/plain": [
       "[[20, 199, 31, 59], [1, 0, 94, 30], [94, 48, 112, 100], [33, 9, 40, 248]]"
      ]
     },
     "execution_count": 93,
     "metadata": {},
     "output_type": "execute_result"
    }
   ],
   "source": [
    "original_key\n"
   ]
  },
  {
   "cell_type": "code",
   "execution_count": 87,
   "metadata": {},
   "outputs": [
    {
     "data": {
      "text/plain": [
       "'0xd3'"
      ]
     },
     "execution_count": 87,
     "metadata": {},
     "output_type": "execute_result"
    }
   ],
   "source": [
    "hex(211)"
   ]
  },
  {
   "cell_type": "code",
   "execution_count": null,
   "metadata": {},
   "outputs": [],
   "source": []
  },
  {
   "cell_type": "code",
   "execution_count": null,
   "metadata": {},
   "outputs": [],
   "source": []
  },
  {
   "cell_type": "code",
   "execution_count": 60,
   "metadata": {},
   "outputs": [
    {
     "name": "stdout",
     "output_type": "stream",
     "text": [
      "[206, 149, 109, 181]\n"
     ]
    }
   ],
   "source": [
    "list1 = [0x63, 0xf2, 0xa4, 0xd6]\n",
    "list2 = [0xad, 0x67, 0xc9, 0x63]\n",
    "\n",
    "result = list(a^b for a,b in zip(list1,list2))\n",
    "print(result)"
   ]
  },
  {
   "cell_type": "code",
   "execution_count": null,
   "metadata": {},
   "outputs": [],
   "source": [
    "S_BOX = pd.read_csv('sbox.csv', index_col=0)\n",
    "S_BOX"
   ]
  },
  {
   "cell_type": "code",
   "execution_count": null,
   "metadata": {},
   "outputs": [],
   "source": [
    "# Expansao de chave - Tabela SBOX\n",
    "entry = [100, 25, 90, 70]\n",
    "response = []\n",
    "\n",
    "for number in entry:\n",
    "    col = str(hex(number))[-1:]\n",
    "    row = str(hex(number))[-2:-1]\n",
    "    response.append(S_BOX.loc[row, col])\n",
    "\n",
    "print(response)"
   ]
  },
  {
   "cell_type": "code",
   "execution_count": null,
   "metadata": {},
   "outputs": [],
   "source": [
    "# Shift Rows\n",
    "\n",
    "E = [['8A','30','44','19'],\n",
    "     ['13','2C','3D','D3'],\n",
    "     ['09','F9','93','12'],\n",
    "     ['B3','12','6B','11']]\n",
    "\n",
    "def rotate_left(array_to_rotate, n):\n",
    "     array_to_rotate = deque(array_to_rotate)\n",
    "     array_to_rotate.rotate(-n)\n",
    "     return array_to_rotate\n",
    "\n",
    "for i in range(1, 4):\n",
    "     print(rotate_left(E[i], i))"
   ]
  }
 ],
 "metadata": {
  "interpreter": {
   "hash": "b93c65bbf5f78a5bedc0e0bed34aa96d84a12d2b1e4aa0262602406509c43df6"
  },
  "kernelspec": {
   "display_name": "Python 3.8.12 ('FURB')",
   "language": "python",
   "name": "python3"
  },
  "language_info": {
   "codemirror_mode": {
    "name": "ipython",
    "version": 3
   },
   "file_extension": ".py",
   "mimetype": "text/x-python",
   "name": "python",
   "nbconvert_exporter": "python",
   "pygments_lexer": "ipython3",
   "version": "3.8.12"
  },
  "orig_nbformat": 4
 },
 "nbformat": 4,
 "nbformat_minor": 2
}
